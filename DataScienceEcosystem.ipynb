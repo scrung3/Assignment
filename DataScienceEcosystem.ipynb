{
 "cells": [
  {
   "cell_type": "markdown",
   "id": "e5287673-bdbb-468a-82a0-99d2ea067a27",
   "metadata": {},
   "source": [
    "# Data Science Tools and Ecosystem"
   ]
  },
  {
   "cell_type": "markdown",
   "id": "aafadc83-62ab-454d-b28e-f88a2fead3f2",
   "metadata": {},
   "source": [
    "In this notebook, Data Science Tools and Ecosystem are summarized."
   ]
  },
  {
   "cell_type": "markdown",
   "id": "735ed06c-f3db-463e-a11d-c68337b6df6c",
   "metadata": {},
   "source": [
    "Objectives:\n",
    "- List some of the popular Data Science languages\n",
    "- List some of the commonly used libraries in Data Science\n",
    "- Create a table\n",
    "- Use arithemtic expressions in Python"
   ]
  },
  {
   "cell_type": "markdown",
   "id": "4fbad444-70dc-4a9f-b4fb-bfb00f0076db",
   "metadata": {},
   "source": [
    "Some of the popular languages that Data Scientists use are:\n",
    "1. Python\n",
    "2. R\n",
    "3. SQL"
   ]
  },
  {
   "cell_type": "markdown",
   "id": "bfe7797f-d7be-45e9-9910-11eae58b09f1",
   "metadata": {},
   "source": [
    "Some of the commonly used libraries used by Data Scientists include:\n",
    "1. NumPy\n",
    "2. Pandas\n",
    "3. Matplotlib"
   ]
  },
  {
   "cell_type": "markdown",
   "id": "278ec910-0672-4be0-85f9-d4c064c5bbf1",
   "metadata": {},
   "source": [
    "|Data Science Tools|\n",
    "|------------------|\n",
    "|JupyterLab|\n",
    "|GitHub|\n",
    "|Apache Hadoop|"
   ]
  },
  {
   "cell_type": "markdown",
   "id": "66f36409-fa4c-41f8-9062-3c166ee81935",
   "metadata": {},
   "source": [
    "### Below are a few examples of evaluating arithmetic expressions in Python"
   ]
  },
  {
   "cell_type": "code",
   "execution_count": 4,
   "id": "7107adb8-2a26-4e50-aa51-e2eec094fb70",
   "metadata": {},
   "outputs": [
    {
     "data": {
      "text/plain": [
       "17"
      ]
     },
     "execution_count": 4,
     "metadata": {},
     "output_type": "execute_result"
    }
   ],
   "source": [
    "#This a simple arithmetic expression to mutiply then add integers\n",
    "(3*4)+5"
   ]
  },
  {
   "cell_type": "code",
   "execution_count": 6,
   "id": "c1cc1d67-39b4-4bb4-9ced-9905e3be4b8a",
   "metadata": {},
   "outputs": [
    {
     "name": "stdout",
     "output_type": "stream",
     "text": [
      "200 minutes is 3.3333333333333335 hours.\n"
     ]
    }
   ],
   "source": [
    "#This will convert 200 minutes to hours by diving by 60\n",
    "hours = 200/60\n",
    "print(\"200 minutes is\", hours, \"hours.\")"
   ]
  },
  {
   "cell_type": "markdown",
   "id": "a3933f16-0d98-40b3-b342-bb3b0e302e62",
   "metadata": {},
   "source": [
    "## Author\n",
    "Angus W"
   ]
  },
  {
   "cell_type": "code",
   "execution_count": null,
   "id": "698b14df-7b7b-4187-a3a9-f48ea508c3fc",
   "metadata": {},
   "outputs": [],
   "source": []
  }
 ],
 "metadata": {
  "kernelspec": {
   "display_name": "Python [conda env:base] *",
   "language": "python",
   "name": "conda-base-py"
  },
  "language_info": {
   "codemirror_mode": {
    "name": "ipython",
    "version": 3
   },
   "file_extension": ".py",
   "mimetype": "text/x-python",
   "name": "python",
   "nbconvert_exporter": "python",
   "pygments_lexer": "ipython3",
   "version": "3.12.7"
  }
 },
 "nbformat": 4,
 "nbformat_minor": 5
}
